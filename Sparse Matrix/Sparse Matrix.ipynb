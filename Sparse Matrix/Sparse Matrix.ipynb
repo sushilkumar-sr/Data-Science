{
 "cells": [
  {
   "cell_type": "markdown",
   "id": "cb994f2f",
   "metadata": {},
   "source": [
    "# Sparse Matrix"
   ]
  },
  {
   "cell_type": "code",
   "execution_count": 1,
   "id": "98619319",
   "metadata": {},
   "outputs": [],
   "source": [
    "import numpy as np\n",
    "from scipy.sparse import csc_matrix"
   ]
  },
  {
   "cell_type": "code",
   "execution_count": 5,
   "id": "049c908d",
   "metadata": {},
   "outputs": [
    {
     "data": {
      "text/plain": [
       "array([[ 0,  9,  0],\n",
       "       [ 0,  0,  4],\n",
       "       [18,  0,  0]], dtype=int32)"
      ]
     },
     "execution_count": 5,
     "metadata": {},
     "output_type": "execute_result"
    }
   ],
   "source": [
    "row=np.array([0,1,2])\n",
    "col=np.array([1,2,0])\n",
    "data=np.array([9,4,18])\n",
    "A = csc_matrix((data,(row, col)),shape = (3, 3))\n",
    "A.toarray()"
   ]
  },
  {
   "cell_type": "code",
   "execution_count": 7,
   "id": "1bccaf5d",
   "metadata": {},
   "outputs": [
    {
     "data": {
      "text/plain": [
       "array([[0, 6, 0],\n",
       "       [5, 0, 0],\n",
       "       [0, 0, 9]], dtype=int32)"
      ]
     },
     "execution_count": 7,
     "metadata": {},
     "output_type": "execute_result"
    }
   ],
   "source": [
    "row1=np.array([1,0,2])\n",
    "col1=np.array([0,1,2])\n",
    "data1=np.array([5,6,9])\n",
    "B = csc_matrix((data1,(row1, col1)),shape = (3, 3))\n",
    "B.toarray()"
   ]
  },
  {
   "cell_type": "code",
   "execution_count": 8,
   "id": "2fcc5cc4",
   "metadata": {},
   "outputs": [
    {
     "data": {
      "text/plain": [
       "array([[ 0, 54,  0],\n",
       "       [ 0,  0,  0],\n",
       "       [ 0,  0,  0]], dtype=int32)"
      ]
     },
     "execution_count": 8,
     "metadata": {},
     "output_type": "execute_result"
    }
   ],
   "source": [
    "AB=A.multiply(B)\n",
    "AB.toarray()"
   ]
  },
  {
   "cell_type": "code",
   "execution_count": null,
   "id": "7414725b",
   "metadata": {},
   "outputs": [],
   "source": []
  }
 ],
 "metadata": {
  "kernelspec": {
   "display_name": "Python 3 (ipykernel)",
   "language": "python",
   "name": "python3"
  },
  "language_info": {
   "codemirror_mode": {
    "name": "ipython",
    "version": 3
   },
   "file_extension": ".py",
   "mimetype": "text/x-python",
   "name": "python",
   "nbconvert_exporter": "python",
   "pygments_lexer": "ipython3",
   "version": "3.9.7"
  }
 },
 "nbformat": 4,
 "nbformat_minor": 5
}
