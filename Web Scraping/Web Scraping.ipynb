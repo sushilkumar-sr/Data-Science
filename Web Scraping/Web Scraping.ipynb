{
 "cells": [
  {
   "cell_type": "code",
   "execution_count": 24,
   "id": "8c8531a2",
   "metadata": {},
   "outputs": [
    {
     "name": "stdout",
     "output_type": "stream",
     "text": [
      "The object type: <class 'requests.models.Response'>\n",
      "The object type: <class 'bs4.BeautifulSoup'>\n",
      "APPLE iPhone 11 (Green, 128 GB)\n",
      "APPLE iPhone 11 (Black, 128 GB)\n",
      "APPLE iPhone 13 Mini (Pink, 128 GB)\n",
      "APPLE iPhone 13 Mini ((PRODUCT)RED, 128 GB)\n",
      "APPLE iPhone 11 (Purple, 64 GB)\n",
      "APPLE iPhone 11 (White, 128 GB)\n",
      "APPLE iPhone 13 Mini (Starlight, 128 GB)\n",
      "APPLE iPhone SE (Red, 64 GB)\n",
      "APPLE iPhone 13 (Blue, 128 GB)\n",
      "APPLE iPhone 13 Mini (Midnight, 128 GB)\n",
      "APPLE iPhone 11 (White, 64 GB)\n",
      "APPLE iPhone 13 (Midnight, 128 GB)\n",
      "APPLE iPhone 13 ((PRODUCT)RED, 128 GB)\n",
      "APPLE iPhone 13 (Pink, 128 GB)\n",
      "APPLE iPhone 13 mini (Green, 128 GB)\n",
      "APPLE iPhone 13 (Starlight, 128 GB)\n",
      "APPLE iPhone 13 Mini (Blue, 128 GB)\n",
      "APPLE iPhone SE (White, 64 GB)\n",
      "APPLE iPhone 12 Mini (Red, 64 GB)\n",
      "APPLE iPhone 12 Mini (Black, 64 GB)\n",
      "APPLE iPhone SE (Black, 64 GB)\n",
      "APPLE iPhone 13 (Green, 128 GB)\n",
      "APPLE iPhone 12 (Red, 64 GB)\n",
      "APPLE iPhone 13 Mini (Midnight, 256 GB)\n"
     ]
    }
   ],
   "source": [
    "#importing the BeautifulSoup Library  \n",
    "  \n",
    "import bs4  \n",
    "import requests  \n",
    "  \n",
    "#Creating the requests  \n",
    "  \n",
    "res = requests.get(\"https://www.flipkart.com/search?q=iphone&otracker=search&otracker1=search&marketplace=FLIPKART&as-show=on&as=off\")  \n",
    "print(\"The object type:\",type(res))  \n",
    "list1=[]\n",
    "# Convert the request object to the Beautiful Soup Object  \n",
    "soup = bs4.BeautifulSoup(res.text,'html5lib')  \n",
    "print(\"The object type:\",type(soup) )\n",
    "list1=soup.findAll('div',{'_4rR01T'})\n",
    "for i in list1:\n",
    "    print(i.get_text())"
   ]
  },
  {
   "cell_type": "code",
   "execution_count": 13,
   "id": "d019ef0d",
   "metadata": {},
   "outputs": [
    {
     "name": "stdout",
     "output_type": "stream",
     "text": [
      "Collecting Bs4\n",
      "  Downloading bs4-0.0.1.tar.gz (1.1 kB)\n",
      "Requirement already satisfied: beautifulsoup4 in c:\\users\\lenovo\\anaconda3\\lib\\site-packages (from Bs4) (4.10.0)\n",
      "Requirement already satisfied: soupsieve>1.2 in c:\\users\\lenovo\\anaconda3\\lib\\site-packages (from beautifulsoup4->Bs4) (2.2.1)\n",
      "Building wheels for collected packages: Bs4\n",
      "  Building wheel for Bs4 (setup.py): started\n",
      "  Building wheel for Bs4 (setup.py): finished with status 'done'\n",
      "  Created wheel for Bs4: filename=bs4-0.0.1-py3-none-any.whl size=1271 sha256=91717b42a0e6238a4d560b8e160b76fcb71eb319c2021489e5d721df90cbc1e7\n",
      "  Stored in directory: c:\\users\\lenovo\\appdata\\local\\pip\\cache\\wheels\\73\\2b\\cb\\099980278a0c9a3e57ff1a89875ec07bfa0b6fcbebb9a8cad3\n",
      "Successfully built Bs4\n",
      "Installing collected packages: Bs4\n",
      "Successfully installed Bs4-0.0.1\n",
      "Note: you may need to restart the kernel to use updated packages.\n"
     ]
    }
   ],
   "source": [
    "pip install Bs4"
   ]
  },
  {
   "cell_type": "code",
   "execution_count": 10,
   "id": "7faaaaca",
   "metadata": {},
   "outputs": [
    {
     "ename": "SyntaxError",
     "evalue": "unexpected EOF while parsing (Temp/ipykernel_13432/436390094.py, line 13)",
     "output_type": "error",
     "traceback": [
      "\u001b[1;36m  File \u001b[1;32m\"C:\\Users\\Lenovo\\AppData\\Local\\Temp/ipykernel_13432/436390094.py\"\u001b[1;36m, line \u001b[1;32m13\u001b[0m\n\u001b[1;33m    print(\"The object type:\",type(soup)\u001b[0m\n\u001b[1;37m                                         ^\u001b[0m\n\u001b[1;31mSyntaxError\u001b[0m\u001b[1;31m:\u001b[0m unexpected EOF while parsing\n"
     ]
    }
   ],
   "source": []
  },
  {
   "cell_type": "code",
   "execution_count": null,
   "id": "903bcdde",
   "metadata": {},
   "outputs": [],
   "source": []
  },
  {
   "cell_type": "code",
   "execution_count": null,
   "id": "ed31eb0e",
   "metadata": {},
   "outputs": [],
   "source": []
  },
  {
   "cell_type": "code",
   "execution_count": null,
   "id": "50a1ae3b",
   "metadata": {},
   "outputs": [],
   "source": []
  },
  {
   "cell_type": "code",
   "execution_count": null,
   "id": "b71e51a4",
   "metadata": {},
   "outputs": [],
   "source": []
  },
  {
   "cell_type": "code",
   "execution_count": null,
   "id": "ac5441b7",
   "metadata": {},
   "outputs": [],
   "source": []
  },
  {
   "cell_type": "code",
   "execution_count": null,
   "id": "513bc769",
   "metadata": {},
   "outputs": [],
   "source": []
  },
  {
   "cell_type": "code",
   "execution_count": null,
   "id": "3e54864d",
   "metadata": {},
   "outputs": [],
   "source": []
  }
 ],
 "metadata": {
  "kernelspec": {
   "display_name": "Python 3 (ipykernel)",
   "language": "python",
   "name": "python3"
  },
  "language_info": {
   "codemirror_mode": {
    "name": "ipython",
    "version": 3
   },
   "file_extension": ".py",
   "mimetype": "text/x-python",
   "name": "python",
   "nbconvert_exporter": "python",
   "pygments_lexer": "ipython3",
   "version": "3.9.7"
  }
 },
 "nbformat": 4,
 "nbformat_minor": 5
}
