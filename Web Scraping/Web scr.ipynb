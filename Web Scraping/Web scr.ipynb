{
 "cells": [
  {
   "cell_type": "code",
   "execution_count": 9,
   "id": "ece4bdbc",
   "metadata": {},
   "outputs": [],
   "source": [
    "from bs4 import BeautifulSoup\n",
    "import pandas as pd\n",
    "import requests as rq"
   ]
  },
  {
   "cell_type": "code",
   "execution_count": 10,
   "id": "cfe82181",
   "metadata": {},
   "outputs": [],
   "source": [
    "url=\"https://www.cricbuzz.com/cricket-series/ipl-2020/auction/completed\"\n",
    "get_url=rq.get(url)\n",
    "soup=BeautifulSoup(get_url.text,\"html.parser\")"
   ]
  },
  {
   "cell_type": "code",
   "execution_count": 11,
   "id": "7414ab86",
   "metadata": {},
   "outputs": [],
   "source": [
    "Name= [i.text for i in soup.findAll('div',{'class':'cb-font-18'})]\n",
    "Sold_Unsold= [i.text for i in soup.findAll('div',{'class':'cb-col cb-col-20 cb-lst-itm-sm'})]"
   ]
  },
  {
   "cell_type": "code",
   "execution_count": 12,
   "id": "fae81cf6",
   "metadata": {},
   "outputs": [],
   "source": [
    "Base_Price= [i.text for i in soup.findAll('div',{'class':'cb-col cb-col-33 cb-lst-itm-sm text-left','class':'cb-font-16'})]\n",
    "Base_Price=Base_Price[0:len(Base_Price)-3:3]\n",
    "Base_Price=[i.replace('\\xa0\\xa0',' ') for i in Base_Price]\n",
    "Final_Price= [i.text for i in soup.findAll('div',{'class':'cb-col cb-col-33 cb-lst-itm-sm text-left','class':'cb-font-16'})]\n",
    "Final_Price=Final_Price[1:len(Final_Price)-3:3]\n",
    "Final_Price=[i.replace('\\xa0\\xa0',' ') for i in Final_Price]\n",
    "Sold_To= [i.text for i in soup.findAll('div',{'class':'cb-col cb-col-33 cb-lst-itm-sm text-left','class':'cb-font-16'})]\n",
    "Sold_To=Sold_To[2:len(Sold_To)-3:3]\n",
    "Sold_To=[i.replace('\\xa0\\xa0',' ') for i in Sold_To]\n",
    "Role= [i.text for i in soup.findAll('div',{'class':'cb-col cb-col-80','class':'cb-font-12 text-gray'})]\n",
    "Role=Role[0::4]\n",
    "Role=[i.split(' • ')[0] for i in Role]"
   ]
  },
  {
   "cell_type": "code",
   "execution_count": 13,
   "id": "1111a6e1",
   "metadata": {},
   "outputs": [],
   "source": [
    "Table=pd.DataFrame({\n",
    "    \"Name\":Name,\n",
    "    \"Role\": Role,\n",
    "    \"Status\":Sold_Unsold,\n",
    "    \"Base Price\": Base_Price,\n",
    "    \"Final Price\": Final_Price,\n",
    "    \"Team\": Sold_To })\n",
    "Table.replace(\"-\",\"\",inplace=True)\n",
    "Table.to_csv(\"IPLAuction2019.csv\")"
   ]
  },
  {
   "cell_type": "code",
   "execution_count": null,
   "id": "b109abcf",
   "metadata": {},
   "outputs": [],
   "source": []
  },
  {
   "cell_type": "code",
   "execution_count": null,
   "id": "c021c3ef",
   "metadata": {},
   "outputs": [],
   "source": []
  },
  {
   "cell_type": "code",
   "execution_count": null,
   "id": "49aa3e12",
   "metadata": {},
   "outputs": [],
   "source": []
  },
  {
   "cell_type": "code",
   "execution_count": null,
   "id": "1e32d7c8",
   "metadata": {},
   "outputs": [],
   "source": []
  },
  {
   "cell_type": "code",
   "execution_count": null,
   "id": "435e8cd1",
   "metadata": {},
   "outputs": [],
   "source": []
  },
  {
   "cell_type": "code",
   "execution_count": null,
   "id": "b84e5be6",
   "metadata": {},
   "outputs": [],
   "source": []
  },
  {
   "cell_type": "code",
   "execution_count": null,
   "id": "aafdb049",
   "metadata": {},
   "outputs": [],
   "source": []
  },
  {
   "cell_type": "code",
   "execution_count": null,
   "id": "eaad2cbc",
   "metadata": {},
   "outputs": [],
   "source": []
  },
  {
   "cell_type": "code",
   "execution_count": null,
   "id": "bcbdfdee",
   "metadata": {},
   "outputs": [],
   "source": []
  }
 ],
 "metadata": {
  "kernelspec": {
   "display_name": "Python 3 (ipykernel)",
   "language": "python",
   "name": "python3"
  },
  "language_info": {
   "codemirror_mode": {
    "name": "ipython",
    "version": 3
   },
   "file_extension": ".py",
   "mimetype": "text/x-python",
   "name": "python",
   "nbconvert_exporter": "python",
   "pygments_lexer": "ipython3",
   "version": "3.9.7"
  }
 },
 "nbformat": 4,
 "nbformat_minor": 5
}
